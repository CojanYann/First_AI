{
 "cells": [
  {
   "cell_type": "code",
   "execution_count": 14,
   "metadata": {},
   "outputs": [],
   "source": [
    "# Import standard dependencies\n",
    "import cv2\n",
    "import os\n",
    "import random\n",
    "import numpy as np\n",
    "from matplotlib import pyplot as plt\n",
    "# Import uuid library to generate unique image names\n",
    "import uuid"
   ]
  },
  {
   "cell_type": "code",
   "execution_count": 15,
   "metadata": {},
   "outputs": [],
   "source": [
    "ANC_PATH = r\"C:\\Users\\cojan\\OneDrive\\Documents\\Yann\\DEVELOPPEMENT\\pyton\\Project_age_gender\\Data\\UTKFace\"\n",
    "POS_PATH = ANC_PATH"
   ]
  },
  {
   "cell_type": "code",
   "execution_count": 16,
   "metadata": {},
   "outputs": [
    {
     "data": {
      "text/plain": [
       "'C:\\\\Users\\\\cojan\\\\OneDrive\\\\Documents\\\\Yann\\\\DEVELOPPEMENT\\\\pyton\\\\Project_age_gender\\\\Data\\\\UTKFace\\\\21_1_0_cfd9364e-2422-11ef-8a3a-3c970e2c3021.jpg'"
      ]
     },
     "execution_count": 16,
     "metadata": {},
     "output_type": "execute_result"
    }
   ],
   "source": [
    "os.path.join(ANC_PATH, '21_1_0_{}.jpg'.format(uuid.uuid1()))"
   ]
  },
  {
   "cell_type": "code",
   "execution_count": 18,
   "metadata": {},
   "outputs": [
    {
     "name": "stdout",
     "output_type": "stream",
     "text": [
      "C:\\Users\\cojan\\OneDrive\\Documents\\Yann\\DEVELOPPEMENT\\pyton\\Project_age_gender\\Data\\UTKFace\\21_1_0_e273caf6-2422-11ef-bf61-3c970e2c3021.jpg\n",
      "C:\\Users\\cojan\\OneDrive\\Documents\\Yann\\DEVELOPPEMENT\\pyton\\Project_age_gender\\Data\\UTKFace\\21_1_0_e289d8ed-2422-11ef-b3e8-3c970e2c3021.jpg\n",
      "C:\\Users\\cojan\\OneDrive\\Documents\\Yann\\DEVELOPPEMENT\\pyton\\Project_age_gender\\Data\\UTKFace\\21_1_0_e3033393-2422-11ef-90c6-3c970e2c3021.jpg\n",
      "C:\\Users\\cojan\\OneDrive\\Documents\\Yann\\DEVELOPPEMENT\\pyton\\Project_age_gender\\Data\\UTKFace\\21_1_0_e35adc54-2422-11ef-8a6f-3c970e2c3021.jpg\n",
      "C:\\Users\\cojan\\OneDrive\\Documents\\Yann\\DEVELOPPEMENT\\pyton\\Project_age_gender\\Data\\UTKFace\\21_1_0_e374493e-2422-11ef-a957-3c970e2c3021.jpg\n",
      "C:\\Users\\cojan\\OneDrive\\Documents\\Yann\\DEVELOPPEMENT\\pyton\\Project_age_gender\\Data\\UTKFace\\21_1_0_e381d16a-2422-11ef-bff6-3c970e2c3021.jpg\n",
      "C:\\Users\\cojan\\OneDrive\\Documents\\Yann\\DEVELOPPEMENT\\pyton\\Project_age_gender\\Data\\UTKFace\\21_1_0_e38711d4-2422-11ef-a833-3c970e2c3021.jpg\n",
      "C:\\Users\\cojan\\OneDrive\\Documents\\Yann\\DEVELOPPEMENT\\pyton\\Project_age_gender\\Data\\UTKFace\\21_1_0_e39070ff-2422-11ef-8dd9-3c970e2c3021.jpg\n",
      "C:\\Users\\cojan\\OneDrive\\Documents\\Yann\\DEVELOPPEMENT\\pyton\\Project_age_gender\\Data\\UTKFace\\21_1_0_e39c37bc-2422-11ef-8fb2-3c970e2c3021.jpg\n",
      "C:\\Users\\cojan\\OneDrive\\Documents\\Yann\\DEVELOPPEMENT\\pyton\\Project_age_gender\\Data\\UTKFace\\21_1_0_e3be8934-2422-11ef-b5f3-3c970e2c3021.jpg\n",
      "C:\\Users\\cojan\\OneDrive\\Documents\\Yann\\DEVELOPPEMENT\\pyton\\Project_age_gender\\Data\\UTKFace\\21_1_0_e3d22e1e-2422-11ef-8e35-3c970e2c3021.jpg\n",
      "C:\\Users\\cojan\\OneDrive\\Documents\\Yann\\DEVELOPPEMENT\\pyton\\Project_age_gender\\Data\\UTKFace\\21_1_0_e44d515e-2422-11ef-aa38-3c970e2c3021.jpg\n",
      "C:\\Users\\cojan\\OneDrive\\Documents\\Yann\\DEVELOPPEMENT\\pyton\\Project_age_gender\\Data\\UTKFace\\21_1_0_e499ae08-2422-11ef-a580-3c970e2c3021.jpg\n",
      "C:\\Users\\cojan\\OneDrive\\Documents\\Yann\\DEVELOPPEMENT\\pyton\\Project_age_gender\\Data\\UTKFace\\21_1_0_e4b32de1-2422-11ef-8c2c-3c970e2c3021.jpg\n",
      "C:\\Users\\cojan\\OneDrive\\Documents\\Yann\\DEVELOPPEMENT\\pyton\\Project_age_gender\\Data\\UTKFace\\21_1_0_e4c134f8-2422-11ef-a4e6-3c970e2c3021.jpg\n",
      "C:\\Users\\cojan\\OneDrive\\Documents\\Yann\\DEVELOPPEMENT\\pyton\\Project_age_gender\\Data\\UTKFace\\21_1_0_e585705e-2422-11ef-8aff-3c970e2c3021.jpg\n",
      "C:\\Users\\cojan\\OneDrive\\Documents\\Yann\\DEVELOPPEMENT\\pyton\\Project_age_gender\\Data\\UTKFace\\21_1_0_e5d7960c-2422-11ef-89f7-3c970e2c3021.jpg\n",
      "C:\\Users\\cojan\\OneDrive\\Documents\\Yann\\DEVELOPPEMENT\\pyton\\Project_age_gender\\Data\\UTKFace\\21_1_0_e5e66be5-2422-11ef-bd34-3c970e2c3021.jpg\n",
      "C:\\Users\\cojan\\OneDrive\\Documents\\Yann\\DEVELOPPEMENT\\pyton\\Project_age_gender\\Data\\UTKFace\\21_1_0_e5eb400a-2422-11ef-a251-3c970e2c3021.jpg\n",
      "C:\\Users\\cojan\\OneDrive\\Documents\\Yann\\DEVELOPPEMENT\\pyton\\Project_age_gender\\Data\\UTKFace\\21_1_0_e5ef2cd6-2422-11ef-9ea9-3c970e2c3021.jpg\n",
      "C:\\Users\\cojan\\OneDrive\\Documents\\Yann\\DEVELOPPEMENT\\pyton\\Project_age_gender\\Data\\UTKFace\\21_1_0_e5fa0095-2422-11ef-981f-3c970e2c3021.jpg\n",
      "C:\\Users\\cojan\\OneDrive\\Documents\\Yann\\DEVELOPPEMENT\\pyton\\Project_age_gender\\Data\\UTKFace\\21_1_0_e9f45e33-2422-11ef-8438-3c970e2c3021.jpg\n",
      "C:\\Users\\cojan\\OneDrive\\Documents\\Yann\\DEVELOPPEMENT\\pyton\\Project_age_gender\\Data\\UTKFace\\21_1_0_ea03bc66-2422-11ef-970f-3c970e2c3021.jpg\n",
      "C:\\Users\\cojan\\OneDrive\\Documents\\Yann\\DEVELOPPEMENT\\pyton\\Project_age_gender\\Data\\UTKFace\\21_1_0_ea0a2e6f-2422-11ef-9c41-3c970e2c3021.jpg\n",
      "C:\\Users\\cojan\\OneDrive\\Documents\\Yann\\DEVELOPPEMENT\\pyton\\Project_age_gender\\Data\\UTKFace\\21_1_0_ea176c2b-2422-11ef-9e7f-3c970e2c3021.jpg\n",
      "C:\\Users\\cojan\\OneDrive\\Documents\\Yann\\DEVELOPPEMENT\\pyton\\Project_age_gender\\Data\\UTKFace\\21_1_0_ea30baec-2422-11ef-9b0e-3c970e2c3021.jpg\n",
      "C:\\Users\\cojan\\OneDrive\\Documents\\Yann\\DEVELOPPEMENT\\pyton\\Project_age_gender\\Data\\UTKFace\\21_1_0_ea49a737-2422-11ef-a6fc-3c970e2c3021.jpg\n",
      "C:\\Users\\cojan\\OneDrive\\Documents\\Yann\\DEVELOPPEMENT\\pyton\\Project_age_gender\\Data\\UTKFace\\21_1_0_ebfbb3db-2422-11ef-9fa2-3c970e2c3021.jpg\n",
      "C:\\Users\\cojan\\OneDrive\\Documents\\Yann\\DEVELOPPEMENT\\pyton\\Project_age_gender\\Data\\UTKFace\\21_1_0_ec0ac509-2422-11ef-a723-3c970e2c3021.jpg\n",
      "C:\\Users\\cojan\\OneDrive\\Documents\\Yann\\DEVELOPPEMENT\\pyton\\Project_age_gender\\Data\\UTKFace\\21_1_0_ec11aa9e-2422-11ef-b186-3c970e2c3021.jpg\n",
      "C:\\Users\\cojan\\OneDrive\\Documents\\Yann\\DEVELOPPEMENT\\pyton\\Project_age_gender\\Data\\UTKFace\\21_1_0_ec257880-2422-11ef-9463-3c970e2c3021.jpg\n",
      "C:\\Users\\cojan\\OneDrive\\Documents\\Yann\\DEVELOPPEMENT\\pyton\\Project_age_gender\\Data\\UTKFace\\21_1_0_ec32cfd5-2422-11ef-8e70-3c970e2c3021.jpg\n",
      "C:\\Users\\cojan\\OneDrive\\Documents\\Yann\\DEVELOPPEMENT\\pyton\\Project_age_gender\\Data\\UTKFace\\21_1_0_ec385244-2422-11ef-8bba-3c970e2c3021.jpg\n",
      "C:\\Users\\cojan\\OneDrive\\Documents\\Yann\\DEVELOPPEMENT\\pyton\\Project_age_gender\\Data\\UTKFace\\21_1_0_ec3e6b0d-2422-11ef-8ef3-3c970e2c3021.jpg\n",
      "C:\\Users\\cojan\\OneDrive\\Documents\\Yann\\DEVELOPPEMENT\\pyton\\Project_age_gender\\Data\\UTKFace\\21_1_0_ec50c3db-2422-11ef-b06f-3c970e2c3021.jpg\n",
      "C:\\Users\\cojan\\OneDrive\\Documents\\Yann\\DEVELOPPEMENT\\pyton\\Project_age_gender\\Data\\UTKFace\\21_1_0_ec5609dc-2422-11ef-8bfd-3c970e2c3021.jpg\n",
      "C:\\Users\\cojan\\OneDrive\\Documents\\Yann\\DEVELOPPEMENT\\pyton\\Project_age_gender\\Data\\UTKFace\\21_1_0_ec69c8e0-2422-11ef-b061-3c970e2c3021.jpg\n",
      "C:\\Users\\cojan\\OneDrive\\Documents\\Yann\\DEVELOPPEMENT\\pyton\\Project_age_gender\\Data\\UTKFace\\21_1_0_ec6f45bc-2422-11ef-a9b0-3c970e2c3021.jpg\n",
      "C:\\Users\\cojan\\OneDrive\\Documents\\Yann\\DEVELOPPEMENT\\pyton\\Project_age_gender\\Data\\UTKFace\\21_1_0_ec74337a-2422-11ef-9306-3c970e2c3021.jpg\n",
      "C:\\Users\\cojan\\OneDrive\\Documents\\Yann\\DEVELOPPEMENT\\pyton\\Project_age_gender\\Data\\UTKFace\\21_1_0_ec797046-2422-11ef-9734-3c970e2c3021.jpg\n",
      "C:\\Users\\cojan\\OneDrive\\Documents\\Yann\\DEVELOPPEMENT\\pyton\\Project_age_gender\\Data\\UTKFace\\21_1_0_ec8cf65b-2422-11ef-a29d-3c970e2c3021.jpg\n",
      "C:\\Users\\cojan\\OneDrive\\Documents\\Yann\\DEVELOPPEMENT\\pyton\\Project_age_gender\\Data\\UTKFace\\21_1_0_ec9242b3-2422-11ef-9e4e-3c970e2c3021.jpg\n",
      "C:\\Users\\cojan\\OneDrive\\Documents\\Yann\\DEVELOPPEMENT\\pyton\\Project_age_gender\\Data\\UTKFace\\21_1_0_ecace52a-2422-11ef-b50e-3c970e2c3021.jpg\n",
      "C:\\Users\\cojan\\OneDrive\\Documents\\Yann\\DEVELOPPEMENT\\pyton\\Project_age_gender\\Data\\UTKFace\\21_1_0_ecbb100e-2422-11ef-a63a-3c970e2c3021.jpg\n"
     ]
    }
   ],
   "source": [
    "cap = cv2.VideoCapture(0)\n",
    "while cap.isOpened(): \n",
    "    ret, frame = cap.read()\n",
    "\n",
    "    #640x480\n",
    "    # Cut down frame to 250x250px\n",
    "    frame = frame[120:120+200,200:200+200, :]\n",
    "    \n",
    "    # Collect anchors \n",
    "    if cv2.waitKey(1) & 0XFF == ord('a'):\n",
    "        # Create the unique file path \n",
    "        imgname = os.path.join(ANC_PATH, '21_1_0_{}.jpg'.format(uuid.uuid1()))\n",
    "        print(imgname)\n",
    "        # Write out anchor image\n",
    "        cv2.imwrite(imgname, frame)\n",
    "    \n",
    "    # Collect positives\n",
    "    if cv2.waitKey(1) & 0XFF == ord('p'):\n",
    "        # Create the unique file path \n",
    "        imgname = os.path.join(POS_PATH, '21_1_0_{}.jpg'.format(uuid.uuid1()))\n",
    "        # Write out positive image\n",
    "        cv2.imwrite(imgname, frame)\n",
    "    \n",
    "    # Show image back to screen\n",
    "    cv2.imshow('Image Collection', frame)\n",
    "    \n",
    "    # Breaking gracefully\n",
    "    if cv2.waitKey(1) & 0XFF == ord('q'):\n",
    "        break\n",
    "        \n",
    "# Release the webcam\n",
    "cap.release()\n",
    "# Close the image show frame\n",
    "cv2.destroyAllWindows()"
   ]
  },
  {
   "cell_type": "code",
   "execution_count": null,
   "metadata": {},
   "outputs": [],
   "source": []
  }
 ],
 "metadata": {
  "kernelspec": {
   "display_name": "Python 3",
   "language": "python",
   "name": "python3"
  },
  "language_info": {
   "codemirror_mode": {
    "name": "ipython",
    "version": 3
   },
   "file_extension": ".py",
   "mimetype": "text/x-python",
   "name": "python",
   "nbconvert_exporter": "python",
   "pygments_lexer": "ipython3",
   "version": "3.12.2"
  }
 },
 "nbformat": 4,
 "nbformat_minor": 2
}
